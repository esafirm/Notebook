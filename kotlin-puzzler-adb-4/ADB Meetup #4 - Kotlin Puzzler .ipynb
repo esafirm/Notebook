{
 "cells": [
  {
   "cell_type": "markdown",
   "metadata": {
    "slideshow": {
     "slide_type": "slide"
    }
   },
   "source": [
    "\n",
    "## Kotlin Puzzler - ADB Meetup 4\n",
    "\n",
    "#### Esa Firman\n",
    "#### @Bukalapak\n",
    "\n",
    "https://github.com/angryziber/kotlin-puzzlers"
   ]
  },
  {
   "cell_type": "markdown",
   "metadata": {
    "slideshow": {
     "slide_type": "slide"
    }
   },
   "source": [
    "### Closure"
   ]
  },
  {
   "cell_type": "code",
   "execution_count": 1,
   "metadata": {
    "slideshow": {
     "slide_type": "-"
    }
   },
   "outputs": [
    {
     "name": "stderr",
     "output_type": "stream",
     "text": [
      "Line_1.jupyter.kts (5:9 - 15) 'return' is not allowed here\n",
      "Line_1.jupyter.kts (5:9 - 15) This function must return a value of type Line_1_jupyter"
     ]
    }
   ],
   "source": [
    "val items = listOf(1,2,3)\n",
    "items.forEach { \n",
    "    print(it)\n",
    "    if(it >= 2){\n",
    "        return\n",
    "    }\n",
    "}\n",
    "print(\"Complete!\")"
   ]
  },
  {
   "cell_type": "markdown",
   "metadata": {
    "slideshow": {
     "slide_type": "slide"
    }
   },
   "source": [
    "### Property Equality"
   ]
  },
  {
   "cell_type": "code",
   "execution_count": 2,
   "metadata": {
    "slideshow": {
     "slide_type": "-"
    }
   },
   "outputs": [
    {
     "name": "stdout",
     "output_type": "stream",
     "text": [
      "a == a true\n",
      "a === a true\n",
      "b == b true\n",
      "b === b false\n"
     ]
    }
   ],
   "source": [
    "data class SomeClass(val value: String)\n",
    "\n",
    "val a get() = \"String\"\n",
    "val b get() = SomeClass(\"Value\")\n",
    "\n",
    "println(\"a == a ${a == a}\")   // ?\n",
    "println(\"a === a ${a === a}\") // ?\n",
    "println(\"b == b ${b == b}\")   // ?\n",
    "println(\"b === b ${b === b}\") // ?"
   ]
  },
  {
   "cell_type": "markdown",
   "metadata": {
    "slideshow": {
     "slide_type": "subslide"
    }
   },
   "source": [
    "- `get()` always trigger/re-fetch its value\n",
    "- The reason `a` have reference equality is because the compiler process that we called \"intering\" \n",
    "\n",
    "More on this: https://en.wikipedia.org/wiki/String_interning\n"
   ]
  },
  {
   "cell_type": "markdown",
   "metadata": {
    "slideshow": {
     "slide_type": "slide"
    }
   },
   "source": [
    "### Fun operator"
   ]
  },
  {
   "cell_type": "code",
   "execution_count": 9,
   "metadata": {},
   "outputs": [
    {
     "name": "stderr",
     "output_type": "stream",
     "text": [
      "Line_9.jupyter.kts (6:61 - 61) Expecting an element"
     ]
    }
   ],
   "source": [
    "fun and(a: Boolean, b: Boolean) = a && b \n",
    "\n",
    "val firstValue = 1 \n",
    "val secondValue = 10\n",
    "\n",
    "print(and(firstValue < secondValue, firstValue > secondValue))"
   ]
  },
  {
   "cell_type": "markdown",
   "metadata": {
    "slideshow": {
     "slide_type": "subslide"
    }
   },
   "source": [
    "* This is an example of *ambiguous parsing* \n",
    "* The compiler cannot decide between these two options\n",
    "    - `a<b, b> c [smth]` (i.e., a call to an infix function `c`\n",
    "      on some generic property `a<b, b>`,\n",
    "      which is missing an argument)\n",
    "    - `a < b, b > c` (i.e., two regular comparisons)\n",
    "* For better or worse, it picks the first option ¯\\_(ツ)_/¯"
   ]
  },
  {
   "cell_type": "markdown",
   "metadata": {
    "slideshow": {
     "slide_type": "slide"
    }
   },
   "source": [
    "### Throw something"
   ]
  },
  {
   "cell_type": "code",
   "execution_count": 10,
   "metadata": {},
   "outputs": [
    {
     "name": "stderr",
     "output_type": "stream",
     "text": [
      "Line_10_jupyter$ADBException: This is ADB's fault!\n",
      "Line_10_jupyter.<init>(Unknown Source)\n",
      "sun.reflect.NativeConstructorAccessorImpl.newInstance0(Native Method)\n",
      "sun.reflect.NativeConstructorAccessorImpl.newInstance(NativeConstructorAccessorImpl.java:62)\n",
      "sun.reflect.DelegatingConstructorAccessorImpl.newInstance(DelegatingConstructorAccessorImpl.java:45)\n",
      "java.lang.reflect.Constructor.newInstance(Constructor.java:423)\n",
      "kotlin.script.experimental.jvm.BasicJvmScriptEvaluator.evalWithConfigAndOtherScriptsResults(BasicJvmScriptEvaluator.kt:96)\n",
      "kotlin.script.experimental.jvm.BasicJvmScriptEvaluator.invoke$suspendImpl(BasicJvmScriptEvaluator.kt:41)\n",
      "kotlin.script.experimental.jvm.BasicJvmScriptEvaluator.invoke(BasicJvmScriptEvaluator.kt)\n",
      "kotlin.script.experimental.jvm.BasicJvmReplEvaluator.eval(BasicJvmReplEvaluator.kt:51)\n",
      "org.jetbrains.kotlin.jupyter.ReplForJupyterImpl$doEval$resultWithDiagnostics$1.invokeSuspend(repl.kt:475)\n",
      "kotlin.coroutines.jvm.internal.BaseContinuationImpl.resumeWith(ContinuationImpl.kt:33)\n",
      "kotlinx.coroutines.DispatchedTask.run(Dispatched.kt:238)\n",
      "kotlinx.coroutines.EventLoopImplBase.processNextEvent(EventLoop.kt:116)\n",
      "kotlinx.coroutines.BlockingCoroutine.joinBlocking(Builders.kt:80)\n",
      "kotlinx.coroutines.BuildersKt__BuildersKt.runBlocking(Builders.kt:54)\n",
      "kotlinx.coroutines.BuildersKt.runBlocking(Unknown Source)\n",
      "kotlinx.coroutines.BuildersKt__BuildersKt.runBlocking$default(Builders.kt:36)\n",
      "kotlinx.coroutines.BuildersKt.runBlocking$default(Unknown Source)\n",
      "org.jetbrains.kotlin.jupyter.ReplForJupyterImpl.doEval(repl.kt:475)\n",
      "org.jetbrains.kotlin.jupyter.ReplForJupyterImpl.eval(repl.kt:345)\n",
      "org.jetbrains.kotlin.jupyter.ProtocolKt$shellMessagesHandler$res$1.invoke(protocol.kt:143)\n",
      "org.jetbrains.kotlin.jupyter.ProtocolKt$shellMessagesHandler$res$1.invoke(protocol.kt)\n",
      "org.jetbrains.kotlin.jupyter.ProtocolKt.evalWithIO(protocol.kt:356)\n",
      "org.jetbrains.kotlin.jupyter.ProtocolKt.shellMessagesHandler(protocol.kt:142)\n",
      "org.jetbrains.kotlin.jupyter.IkotlinKt.kernelServer(ikotlin.kt:104)\n",
      "org.jetbrains.kotlin.jupyter.IkotlinKt.main(ikotlin.kt:59)\n"
     ]
    }
   ],
   "source": [
    "class ADBException : Exception(\"This is ADB's fault!\")\n",
    "\n",
    "throw throw throw ADBException()"
   ]
  },
  {
   "cell_type": "markdown",
   "metadata": {
    "slideshow": {
     "slide_type": "slide"
    }
   },
   "source": [
    "### Two Lambda"
   ]
  },
  {
   "cell_type": "code",
   "execution_count": null,
   "metadata": {
    "slideshow": {
     "slide_type": "-"
    }
   },
   "outputs": [
    {
     "name": "stdout",
     "output_type": "stream",
     "text": [
      "twoone"
     ]
    }
   ],
   "source": [
    "typealias L = (String) -> Unit\n",
    "\n",
    "fun foo(one: L = {}, two: L = {}) {\n",
    "  one(\"one\")\n",
    "  two(\"two\")\n",
    "}\n",
    "\n",
    "foo { print(it) }\n",
    "foo({ print(it) })"
   ]
  },
  {
   "cell_type": "markdown",
   "metadata": {
    "slideshow": {
     "slide_type": "subslide"
    }
   },
   "source": [
    "* Lambda in parentheses is applied as the first argument\n",
    "* Lambda without parentheses is defined to be applied as the last argument \n",
    "    * This is great for DSLs\n",
    "    * But can be confusing when combined with default parameters\n",
    "* Do not take many lambdas as arguments, and avoid default values if you still do it"
   ]
  },
  {
   "cell_type": "markdown",
   "metadata": {
    "slideshow": {
     "slide_type": "slide"
    }
   },
   "source": [
    "# Bonus"
   ]
  },
  {
   "cell_type": "code",
   "execution_count": 15,
   "metadata": {},
   "outputs": [
    {
     "name": "stdout",
     "output_type": "stream",
     "text": [
      "A: A\n",
      "B: B\n",
      "C: () -> kotlin.String\n",
      "D: D\n",
      "E: () -> kotlin.String"
     ]
    }
   ],
   "source": [
    "fun getMeA(): String { return \"A\" }\n",
    "fun getMeB() = \"B\"\n",
    "fun getMeC() = { \"C\" }\n",
    "fun getMeD() = { \"D\" }.let { it() }\n",
    "fun getMeE() = { \"E\" }.also { it() }\n",
    "\n",
    "print(\"\"\"\n",
    "A: ${getMeA()}\n",
    "B: ${getMeB()}\n",
    "C: ${getMeC()}\n",
    "D: ${getMeD()}\n",
    "E: ${getMeE()}\n",
    "\"\"\".trimIndent())"
   ]
  },
  {
   "cell_type": "markdown",
   "metadata": {
    "slideshow": {
     "slide_type": "slide"
    }
   },
   "source": [
    "`also` will execute the block, and return the original value\n",
    "`let` will execute the block, and return the result of the block"
   ]
  },
  {
   "cell_type": "markdown",
   "metadata": {
    "slideshow": {
     "slide_type": "slide"
    }
   },
   "source": [
    "## I have to go now"
   ]
  },
  {
   "cell_type": "code",
   "execution_count": 1,
   "metadata": {
    "slideshow": {
     "slide_type": "-"
    }
   },
   "outputs": [
    {
     "name": "stdout",
     "output_type": "stream",
     "text": [
      "THANK YOU"
     ]
    }
   ],
   "source": [
    "fun String.thankYou() = { String(byteArrayOf(84,72,65,78,75,32,89,79,85)) } \n",
    "print(\"\".thankYou()())"
   ]
  }
 ],
 "metadata": {
  "celltoolbar": "Slideshow",
  "kernelspec": {
   "display_name": "Kotlin",
   "language": "kotlin",
   "name": "kotlin"
  },
  "language_info": {
   "codemirror_mode": "text/x-kotlin",
   "file_extension": ".kt",
   "mimetype": "text/x-kotlin",
   "name": "kotlin",
   "pygments_lexer": "kotlin",
   "version": "1.4.0-dev-7568"
  }
 },
 "nbformat": 4,
 "nbformat_minor": 2
}
