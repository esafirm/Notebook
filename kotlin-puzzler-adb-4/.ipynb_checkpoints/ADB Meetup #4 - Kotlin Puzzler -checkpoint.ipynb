{
 "cells": [
  {
   "cell_type": "markdown",
   "metadata": {
    "slideshow": {
     "slide_type": "slide"
    }
   },
   "source": [
    "\n",
    "## Kotlin Puzzler - ADB Meetup 4\n",
    "\n",
    "#### Esa Firman\n",
    "#### @Bukalapak\n",
    "\n",
    "https://github.com/angryziber/kotlin-puzzlers"
   ]
  },
  {
   "cell_type": "markdown",
   "metadata": {
    "slideshow": {
     "slide_type": "slide"
    }
   },
   "source": [
    "### Closure"
   ]
  },
  {
   "cell_type": "code",
   "execution_count": null,
   "metadata": {
    "slideshow": {
     "slide_type": "-"
    }
   },
   "outputs": [],
   "source": [
    "val items = listOf(1,2,3)\n",
    "items.forEach { \n",
    "    print(it)\n",
    "    if(it >= 2){\n",
    "        return\n",
    "    }\n",
    "}\n",
    "print(\"Complete!\")"
   ]
  },
  {
   "cell_type": "markdown",
   "metadata": {
    "slideshow": {
     "slide_type": "slide"
    }
   },
   "source": [
    "### Property Equality"
   ]
  },
  {
   "cell_type": "code",
   "execution_count": 11,
   "metadata": {
    "slideshow": {
     "slide_type": "-"
    }
   },
   "outputs": [
    {
     "name": "stdout",
     "output_type": "stream",
     "text": [
      "a == a true\n",
      "a === a true\n",
      "b == b true\n",
      "b === b false\n"
     ]
    }
   ],
   "source": [
    "data class SomeClass(val value: String)\n",
    "\n",
    "val a get() = \"String\"\n",
    "val b get() = SomeClass(\"Value\")\n",
    "\n",
    "println(\"a == a ${a == a}\")   // ?\n",
    "println(\"a === a ${a === a}\") // ?\n",
    "println(\"b == b ${b == b}\")   // ?\n",
    "println(\"b === b ${b === b}\") // ?"
   ]
  },
  {
   "cell_type": "markdown",
   "metadata": {
    "slideshow": {
     "slide_type": "subslide"
    }
   },
   "source": [
    "- `get()` always trigger/re-fetch its value\n",
    "- The reason `a` have reference equality is because the compiler process that we called \"intering\" \n",
    "\n",
    "More on this: https://en.wikipedia.org/wiki/String_interning\n"
   ]
  },
  {
   "cell_type": "markdown",
   "metadata": {
    "slideshow": {
     "slide_type": "slide"
    }
   },
   "source": [
    "### Fun operator"
   ]
  },
  {
   "cell_type": "code",
   "execution_count": null,
   "metadata": {},
   "outputs": [],
   "source": [
    "fun and(a: Boolean, b: Boolean) = a && b \n",
    "\n",
    "val firstValue = 1 \n",
    "val secondValue = 10\n",
    "\n",
    "print(and(firstValue < secondValue, firstValue > secondValue))"
   ]
  },
  {
   "cell_type": "markdown",
   "metadata": {
    "slideshow": {
     "slide_type": "subslide"
    }
   },
   "source": [
    "* This is an example of *ambiguous parsing* \n",
    "* The compiler cannot decide between these two options\n",
    "    - `a<b, b> c [smth]` (i.e., a call to an infix function `c`\n",
    "      on some generic property `a<b, b>`,\n",
    "      which is missing an argument)\n",
    "    - `a < b, b > c` (i.e., two regular comparisons)\n",
    "* For better or worse, it picks the first option ¯\\_(ツ)_/¯"
   ]
  },
  {
   "cell_type": "markdown",
   "metadata": {
    "slideshow": {
     "slide_type": "slide"
    }
   },
   "source": [
    "### Throw something"
   ]
  },
  {
   "cell_type": "code",
   "execution_count": null,
   "metadata": {},
   "outputs": [],
   "source": [
    "class ADBException : Exception(\"This is ADB's fault!\")\n",
    "\n",
    "throw throw throw ADBException()"
   ]
  },
  {
   "cell_type": "markdown",
   "metadata": {
    "slideshow": {
     "slide_type": "slide"
    }
   },
   "source": [
    "### Two Lambda"
   ]
  },
  {
   "cell_type": "code",
   "execution_count": null,
   "metadata": {
    "slideshow": {
     "slide_type": "-"
    }
   },
   "outputs": [],
   "source": [
    "typealias L = (String) -> Unit\n",
    "\n",
    "fun foo(one: L = {}, two: L = {}) {\n",
    "  one(\"one\")\n",
    "  two(\"two\")\n",
    "}\n",
    "\n",
    "foo { print(it) }\n",
    "foo({ print(it) })"
   ]
  },
  {
   "cell_type": "markdown",
   "metadata": {
    "slideshow": {
     "slide_type": "subslide"
    }
   },
   "source": [
    "* Lambda in parentheses is applied as the first argument\n",
    "* Lambda without parentheses is defined to be applied as the last argument \n",
    "    * This is great for DSLs\n",
    "    * But can be confusing when combined with default parameters\n",
    "* Do not take many lambdas as arguments, and avoid default values if you still do it"
   ]
  },
  {
   "cell_type": "markdown",
   "metadata": {
    "slideshow": {
     "slide_type": "slide"
    }
   },
   "source": [
    "# Bonus"
   ]
  },
  {
   "cell_type": "code",
   "execution_count": 15,
   "metadata": {},
   "outputs": [
    {
     "name": "stdout",
     "output_type": "stream",
     "text": [
      "A: A\n",
      "B: B\n",
      "C: () -> kotlin.String\n",
      "D: D\n",
      "E: () -> kotlin.String"
     ]
    }
   ],
   "source": [
    "fun getMeA(): String { return \"A\" }\n",
    "fun getMeB() = \"B\"\n",
    "fun getMeC() = { \"C\" }\n",
    "fun getMeD() = { \"D\" }.let { it() }\n",
    "fun getMeE() = { \"E\" }.also { it() }\n",
    "\n",
    "print(\"\"\"\n",
    "A: ${getMeA()}\n",
    "B: ${getMeB()}\n",
    "C: ${getMeC()}\n",
    "D: ${getMeD()}\n",
    "E: ${getMeE()}\n",
    "\"\"\".trimIndent())"
   ]
  },
  {
   "cell_type": "code",
   "execution_count": null,
   "metadata": {},
   "outputs": [],
   "source": []
  },
  {
   "cell_type": "markdown",
   "metadata": {},
   "source": []
  },
  {
   "cell_type": "markdown",
   "metadata": {
    "slideshow": {
     "slide_type": "slide"
    }
   },
   "source": [
    "## I have to go now"
   ]
  },
  {
   "cell_type": "code",
   "execution_count": 4,
   "metadata": {
    "slideshow": {
     "slide_type": "-"
    }
   },
   "outputs": [
    {
     "name": "stdout",
     "output_type": "stream",
     "text": [
      "THANK YOU"
     ]
    }
   ],
   "source": [
    "fun String.thankYou() = { \"THANK YOU\" } \n",
    "print(\"\".thankYou()())"
   ]
  }
 ],
 "metadata": {
  "celltoolbar": "Slideshow",
  "kernelspec": {
   "display_name": "Kotlin",
   "language": "kotlin",
   "name": "kotlin"
  },
  "language_info": {
   "file_extension": "kt",
   "name": "kotlin"
  }
 },
 "nbformat": 4,
 "nbformat_minor": 2
}
